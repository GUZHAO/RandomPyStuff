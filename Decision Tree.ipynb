{
 "cells": [
  {
   "cell_type": "markdown",
   "metadata": {},
   "source": [
    "<h1 style=\"font-size:42px; text-align:center; margin-bottom:30px;\"><span style=\"color:SteelBlue\">Decision Tree</span> </h1>\n",
    "\n",
    "There are 4 sections to help understand decision tree learning:\n",
    "1. [The Visual Tree.](#DT1)\n",
    "2. [The Common Algorithms and Hyperpaprameters.](#DT2)\n",
    "3. [The Time & Space Complexity.](#DT3)\n",
    "4. [Algorithm Pros % Cons.](#DT4)\n",
    "\n",
    "\n",
    "### Instructions\n",
    "\n",
    "<b>Data</b>: Iris\n",
    "\n",
    "<b>Language</b>: Python 3 (Package scikit-learn)\n",
    "\n",
    "<b>Tools</b>: Anaconda 3. Not required. There are 2 type of ways to run your desired algorithms.\n",
    "\n",
    "1. IDE - Jupyter Notebook, Spyder, VS Code, PyCharm just name a few, all pretty good.\n",
    "2. IDE with drag & drop - Orange, KNIME\n",
    "3. More...\n",
    "\n",
    "<b>Goal</b>: This workbook is intended to serve as a quick knowledge recap/template. As for now, this workbook doesn't contain how to present the result to clients which can be an addition later.<br><hr id=\"toc\">"
   ]
  },
  {
   "cell_type": "markdown",
   "metadata": {},
   "source": [
    "<br id=\"DT1\">\n",
    "\n",
    "# The Visual Tree\n",
    "\n",
    "Decision Tree Model is considered as <b>white box models</b>."
   ]
  },
  {
   "cell_type": "code",
   "execution_count": 80,
   "metadata": {},
   "outputs": [],
   "source": [
    "# import data\n",
    "from sklearn.datasets import load_iris\n",
    "# Package - train decision tree model\n",
    "from sklearn.tree import DecisionTreeClassifier\n",
    "from sklearn.tree import export_graphviz\n",
    "import numpy as np\n",
    "# package - display decision tree viz\n",
    "from IPython.display import SVG\n",
    "from graphviz import Source\n",
    "from IPython.display import display\n",
    "# to plot figures\n",
    "%matplotlib inline\n",
    "import matplotlib as mpl\n",
    "import matplotlib.pyplot as plt\n",
    "mpl.rc('axes', labelsize=14)\n",
    "mpl.rc('xtick', labelsize=12)\n",
    "mpl.rc('ytick', labelsize=12)"
   ]
  },
  {
   "cell_type": "code",
   "execution_count": 81,
   "metadata": {},
   "outputs": [],
   "source": [
    "# only use Petal length & width data\n",
    "iris = load_iris()\n",
    "X = iris.data[:, 2:]\n",
    "y = iris.target"
   ]
  },
  {
   "cell_type": "code",
   "execution_count": 82,
   "metadata": {},
   "outputs": [
    {
     "data": {
      "text/plain": [
       "['sepal length (cm)',\n",
       " 'sepal width (cm)',\n",
       " 'petal length (cm)',\n",
       " 'petal width (cm)']"
      ]
     },
     "execution_count": 82,
     "metadata": {},
     "output_type": "execute_result"
    }
   ],
   "source": [
    "iris.feature_names"
   ]
  },
  {
   "cell_type": "code",
   "execution_count": 83,
   "metadata": {},
   "outputs": [
    {
     "data": {
      "text/plain": [
       "array(['setosa', 'versicolor', 'virginica'], dtype='<U10')"
      ]
     },
     "execution_count": 83,
     "metadata": {},
     "output_type": "execute_result"
    }
   ],
   "source": [
    "iris.target_names"
   ]
  },
  {
   "cell_type": "code",
   "execution_count": 91,
   "metadata": {},
   "outputs": [
    {
     "data": {
      "text/plain": [
       "DecisionTreeClassifier(class_weight=None, criterion='gini', max_depth=None,\n",
       "            max_features=None, max_leaf_nodes=None,\n",
       "            min_impurity_decrease=0.0, min_impurity_split=None,\n",
       "            min_samples_leaf=1, min_samples_split=2,\n",
       "            min_weight_fraction_leaf=0.0, presort=False, random_state=42,\n",
       "            splitter='best')"
      ]
     },
     "execution_count": 91,
     "metadata": {},
     "output_type": "execute_result"
    }
   ],
   "source": [
    "tree_clf = DecisionTreeClassifier(random_state=42)\n",
    "tree_clf.fit(X, y)"
   ]
  },
  {
   "cell_type": "code",
   "execution_count": 92,
   "metadata": {},
   "outputs": [
    {
     "data": {
      "image/svg+xml": [
       "<svg height=\"671pt\" viewBox=\"0.00 0.00 751.00 671.00\" width=\"751pt\" xmlns=\"http://www.w3.org/2000/svg\" xmlns:xlink=\"http://www.w3.org/1999/xlink\">\n",
       "<g class=\"graph\" id=\"graph0\" transform=\"scale(1 1) rotate(0) translate(4 667)\">\n",
       "<title>Tree</title>\n",
       "<polygon fill=\"#ffffff\" points=\"-4,4 -4,-667 747,-667 747,4 -4,4\" stroke=\"transparent\"/>\n",
       "<!-- 0 -->\n",
       "<g class=\"node\" id=\"node1\">\n",
       "<title>0</title>\n",
       "<path d=\"M452,-663C452,-663 304,-663 304,-663 298,-663 292,-657 292,-651 292,-651 292,-592 292,-592 292,-586 298,-580 304,-580 304,-580 452,-580 452,-580 458,-580 464,-586 464,-592 464,-592 464,-651 464,-651 464,-657 458,-663 452,-663\" fill=\"transparent\" stroke=\"#000000\"/>\n",
       "<text fill=\"#000000\" font-family=\"Helvetica,sans-Serif\" font-size=\"14.00\" text-anchor=\"middle\" x=\"378\" y=\"-647.8\">petal length (cm) &lt;= 2.45</text>\n",
       "<text fill=\"#000000\" font-family=\"Helvetica,sans-Serif\" font-size=\"14.00\" text-anchor=\"middle\" x=\"378\" y=\"-632.8\">gini = 0.667</text>\n",
       "<text fill=\"#000000\" font-family=\"Helvetica,sans-Serif\" font-size=\"14.00\" text-anchor=\"middle\" x=\"378\" y=\"-617.8\">samples = 150</text>\n",
       "<text fill=\"#000000\" font-family=\"Helvetica,sans-Serif\" font-size=\"14.00\" text-anchor=\"middle\" x=\"378\" y=\"-602.8\">value = [50, 50, 50]</text>\n",
       "<text fill=\"#000000\" font-family=\"Helvetica,sans-Serif\" font-size=\"14.00\" text-anchor=\"middle\" x=\"378\" y=\"-587.8\">class = setosa</text>\n",
       "</g>\n",
       "<!-- 1 -->\n",
       "<g class=\"node\" id=\"node2\">\n",
       "<title>1</title>\n",
       "<path d=\"M345,-536.5C345,-536.5 249,-536.5 249,-536.5 243,-536.5 237,-530.5 237,-524.5 237,-524.5 237,-480.5 237,-480.5 237,-474.5 243,-468.5 249,-468.5 249,-468.5 345,-468.5 345,-468.5 351,-468.5 357,-474.5 357,-480.5 357,-480.5 357,-524.5 357,-524.5 357,-530.5 351,-536.5 345,-536.5\" fill=\"#e58139\" stroke=\"#000000\"/>\n",
       "<text fill=\"#000000\" font-family=\"Helvetica,sans-Serif\" font-size=\"14.00\" text-anchor=\"middle\" x=\"297\" y=\"-521.3\">gini = 0.0</text>\n",
       "<text fill=\"#000000\" font-family=\"Helvetica,sans-Serif\" font-size=\"14.00\" text-anchor=\"middle\" x=\"297\" y=\"-506.3\">samples = 50</text>\n",
       "<text fill=\"#000000\" font-family=\"Helvetica,sans-Serif\" font-size=\"14.00\" text-anchor=\"middle\" x=\"297\" y=\"-491.3\">value = [50, 0, 0]</text>\n",
       "<text fill=\"#000000\" font-family=\"Helvetica,sans-Serif\" font-size=\"14.00\" text-anchor=\"middle\" x=\"297\" y=\"-476.3\">class = setosa</text>\n",
       "</g>\n",
       "<!-- 0&#45;&gt;1 -->\n",
       "<g class=\"edge\" id=\"edge1\">\n",
       "<title>0-&gt;1</title>\n",
       "<path d=\"M349.6701,-579.8796C342.0357,-568.6636 333.7652,-556.5131 326.0901,-545.2372\" fill=\"none\" stroke=\"#000000\"/>\n",
       "<polygon fill=\"#000000\" points=\"328.8775,-543.1122 320.3572,-536.8149 323.0908,-547.0511 328.8775,-543.1122\" stroke=\"#000000\"/>\n",
       "<text fill=\"#000000\" font-family=\"Helvetica,sans-Serif\" font-size=\"14.00\" text-anchor=\"middle\" x=\"315.6907\" y=\"-557.6755\">True</text>\n",
       "</g>\n",
       "<!-- 2 -->\n",
       "<g class=\"node\" id=\"node3\">\n",
       "<title>2</title>\n",
       "<path d=\"M530.5,-544C530.5,-544 387.5,-544 387.5,-544 381.5,-544 375.5,-538 375.5,-532 375.5,-532 375.5,-473 375.5,-473 375.5,-467 381.5,-461 387.5,-461 387.5,-461 530.5,-461 530.5,-461 536.5,-461 542.5,-467 542.5,-473 542.5,-473 542.5,-532 542.5,-532 542.5,-538 536.5,-544 530.5,-544\" fill=\"transparent\" stroke=\"#000000\"/>\n",
       "<text fill=\"#000000\" font-family=\"Helvetica,sans-Serif\" font-size=\"14.00\" text-anchor=\"middle\" x=\"459\" y=\"-528.8\">petal width (cm) &lt;= 1.75</text>\n",
       "<text fill=\"#000000\" font-family=\"Helvetica,sans-Serif\" font-size=\"14.00\" text-anchor=\"middle\" x=\"459\" y=\"-513.8\">gini = 0.5</text>\n",
       "<text fill=\"#000000\" font-family=\"Helvetica,sans-Serif\" font-size=\"14.00\" text-anchor=\"middle\" x=\"459\" y=\"-498.8\">samples = 100</text>\n",
       "<text fill=\"#000000\" font-family=\"Helvetica,sans-Serif\" font-size=\"14.00\" text-anchor=\"middle\" x=\"459\" y=\"-483.8\">value = [0, 50, 50]</text>\n",
       "<text fill=\"#000000\" font-family=\"Helvetica,sans-Serif\" font-size=\"14.00\" text-anchor=\"middle\" x=\"459\" y=\"-468.8\">class = versicolor</text>\n",
       "</g>\n",
       "<!-- 0&#45;&gt;2 -->\n",
       "<g class=\"edge\" id=\"edge2\">\n",
       "<title>0-&gt;2</title>\n",
       "<path d=\"M406.3299,-579.8796C412.2763,-571.1434 418.6086,-561.8404 424.745,-552.8253\" fill=\"none\" stroke=\"#000000\"/>\n",
       "<polygon fill=\"#000000\" points=\"427.8156,-554.5342 430.5492,-544.2981 422.0289,-550.5953 427.8156,-554.5342\" stroke=\"#000000\"/>\n",
       "<text fill=\"#000000\" font-family=\"Helvetica,sans-Serif\" font-size=\"14.00\" text-anchor=\"middle\" x=\"435.2157\" y=\"-565.1587\">False</text>\n",
       "</g>\n",
       "<!-- 3 -->\n",
       "<g class=\"node\" id=\"node4\">\n",
       "<title>3</title>\n",
       "<path d=\"M438,-425C438,-425 290,-425 290,-425 284,-425 278,-419 278,-413 278,-413 278,-354 278,-354 278,-348 284,-342 290,-342 290,-342 438,-342 438,-342 444,-342 450,-348 450,-354 450,-354 450,-413 450,-413 450,-419 444,-425 438,-425\" fill=\"#39e581\" fill-opacity=\"0.898039\" stroke=\"#000000\"/>\n",
       "<text fill=\"#000000\" font-family=\"Helvetica,sans-Serif\" font-size=\"14.00\" text-anchor=\"middle\" x=\"364\" y=\"-409.8\">petal length (cm) &lt;= 4.95</text>\n",
       "<text fill=\"#000000\" font-family=\"Helvetica,sans-Serif\" font-size=\"14.00\" text-anchor=\"middle\" x=\"364\" y=\"-394.8\">gini = 0.168</text>\n",
       "<text fill=\"#000000\" font-family=\"Helvetica,sans-Serif\" font-size=\"14.00\" text-anchor=\"middle\" x=\"364\" y=\"-379.8\">samples = 54</text>\n",
       "<text fill=\"#000000\" font-family=\"Helvetica,sans-Serif\" font-size=\"14.00\" text-anchor=\"middle\" x=\"364\" y=\"-364.8\">value = [0, 49, 5]</text>\n",
       "<text fill=\"#000000\" font-family=\"Helvetica,sans-Serif\" font-size=\"14.00\" text-anchor=\"middle\" x=\"364\" y=\"-349.8\">class = versicolor</text>\n",
       "</g>\n",
       "<!-- 2&#45;&gt;3 -->\n",
       "<g class=\"edge\" id=\"edge3\">\n",
       "<title>2-&gt;3</title>\n",
       "<path d=\"M425.7736,-460.8796C418.6556,-451.9633 411.0661,-442.4565 403.7308,-433.268\" fill=\"none\" stroke=\"#000000\"/>\n",
       "<polygon fill=\"#000000\" points=\"406.3425,-430.9295 397.3682,-425.2981 400.8719,-435.2968 406.3425,-430.9295\" stroke=\"#000000\"/>\n",
       "</g>\n",
       "<!-- 12 -->\n",
       "<g class=\"node\" id=\"node13\">\n",
       "<title>12</title>\n",
       "<path d=\"M628,-425C628,-425 480,-425 480,-425 474,-425 468,-419 468,-413 468,-413 468,-354 468,-354 468,-348 474,-342 480,-342 480,-342 628,-342 628,-342 634,-342 640,-348 640,-354 640,-354 640,-413 640,-413 640,-419 634,-425 628,-425\" fill=\"#8139e5\" fill-opacity=\"0.976471\" stroke=\"#000000\"/>\n",
       "<text fill=\"#000000\" font-family=\"Helvetica,sans-Serif\" font-size=\"14.00\" text-anchor=\"middle\" x=\"554\" y=\"-409.8\">petal length (cm) &lt;= 4.85</text>\n",
       "<text fill=\"#000000\" font-family=\"Helvetica,sans-Serif\" font-size=\"14.00\" text-anchor=\"middle\" x=\"554\" y=\"-394.8\">gini = 0.043</text>\n",
       "<text fill=\"#000000\" font-family=\"Helvetica,sans-Serif\" font-size=\"14.00\" text-anchor=\"middle\" x=\"554\" y=\"-379.8\">samples = 46</text>\n",
       "<text fill=\"#000000\" font-family=\"Helvetica,sans-Serif\" font-size=\"14.00\" text-anchor=\"middle\" x=\"554\" y=\"-364.8\">value = [0, 1, 45]</text>\n",
       "<text fill=\"#000000\" font-family=\"Helvetica,sans-Serif\" font-size=\"14.00\" text-anchor=\"middle\" x=\"554\" y=\"-349.8\">class = virginica</text>\n",
       "</g>\n",
       "<!-- 2&#45;&gt;12 -->\n",
       "<g class=\"edge\" id=\"edge12\">\n",
       "<title>2-&gt;12</title>\n",
       "<path d=\"M492.2264,-460.8796C499.3444,-451.9633 506.9339,-442.4565 514.2692,-433.268\" fill=\"none\" stroke=\"#000000\"/>\n",
       "<polygon fill=\"#000000\" points=\"517.1281,-435.2968 520.6318,-425.2981 511.6575,-430.9295 517.1281,-435.2968\" stroke=\"#000000\"/>\n",
       "</g>\n",
       "<!-- 4 -->\n",
       "<g class=\"node\" id=\"node5\">\n",
       "<title>4</title>\n",
       "<path d=\"M258.5,-306C258.5,-306 115.5,-306 115.5,-306 109.5,-306 103.5,-300 103.5,-294 103.5,-294 103.5,-235 103.5,-235 103.5,-229 109.5,-223 115.5,-223 115.5,-223 258.5,-223 258.5,-223 264.5,-223 270.5,-229 270.5,-235 270.5,-235 270.5,-294 270.5,-294 270.5,-300 264.5,-306 258.5,-306\" fill=\"#39e581\" fill-opacity=\"0.980392\" stroke=\"#000000\"/>\n",
       "<text fill=\"#000000\" font-family=\"Helvetica,sans-Serif\" font-size=\"14.00\" text-anchor=\"middle\" x=\"187\" y=\"-290.8\">petal width (cm) &lt;= 1.65</text>\n",
       "<text fill=\"#000000\" font-family=\"Helvetica,sans-Serif\" font-size=\"14.00\" text-anchor=\"middle\" x=\"187\" y=\"-275.8\">gini = 0.041</text>\n",
       "<text fill=\"#000000\" font-family=\"Helvetica,sans-Serif\" font-size=\"14.00\" text-anchor=\"middle\" x=\"187\" y=\"-260.8\">samples = 48</text>\n",
       "<text fill=\"#000000\" font-family=\"Helvetica,sans-Serif\" font-size=\"14.00\" text-anchor=\"middle\" x=\"187\" y=\"-245.8\">value = [0, 47, 1]</text>\n",
       "<text fill=\"#000000\" font-family=\"Helvetica,sans-Serif\" font-size=\"14.00\" text-anchor=\"middle\" x=\"187\" y=\"-230.8\">class = versicolor</text>\n",
       "</g>\n",
       "<!-- 3&#45;&gt;4 -->\n",
       "<g class=\"edge\" id=\"edge4\">\n",
       "<title>3-&gt;4</title>\n",
       "<path d=\"M302.094,-341.8796C287.677,-332.1868 272.222,-321.7961 257.4656,-311.8752\" fill=\"none\" stroke=\"#000000\"/>\n",
       "<polygon fill=\"#000000\" points=\"259.1227,-308.7718 248.8711,-306.0969 255.2171,-314.581 259.1227,-308.7718\" stroke=\"#000000\"/>\n",
       "</g>\n",
       "<!-- 7 -->\n",
       "<g class=\"node\" id=\"node8\">\n",
       "<title>7</title>\n",
       "<path d=\"M443.5,-306C443.5,-306 300.5,-306 300.5,-306 294.5,-306 288.5,-300 288.5,-294 288.5,-294 288.5,-235 288.5,-235 288.5,-229 294.5,-223 300.5,-223 300.5,-223 443.5,-223 443.5,-223 449.5,-223 455.5,-229 455.5,-235 455.5,-235 455.5,-294 455.5,-294 455.5,-300 449.5,-306 443.5,-306\" fill=\"#8139e5\" fill-opacity=\"0.498039\" stroke=\"#000000\"/>\n",
       "<text fill=\"#000000\" font-family=\"Helvetica,sans-Serif\" font-size=\"14.00\" text-anchor=\"middle\" x=\"372\" y=\"-290.8\">petal width (cm) &lt;= 1.55</text>\n",
       "<text fill=\"#000000\" font-family=\"Helvetica,sans-Serif\" font-size=\"14.00\" text-anchor=\"middle\" x=\"372\" y=\"-275.8\">gini = 0.444</text>\n",
       "<text fill=\"#000000\" font-family=\"Helvetica,sans-Serif\" font-size=\"14.00\" text-anchor=\"middle\" x=\"372\" y=\"-260.8\">samples = 6</text>\n",
       "<text fill=\"#000000\" font-family=\"Helvetica,sans-Serif\" font-size=\"14.00\" text-anchor=\"middle\" x=\"372\" y=\"-245.8\">value = [0, 2, 4]</text>\n",
       "<text fill=\"#000000\" font-family=\"Helvetica,sans-Serif\" font-size=\"14.00\" text-anchor=\"middle\" x=\"372\" y=\"-230.8\">class = virginica</text>\n",
       "</g>\n",
       "<!-- 3&#45;&gt;7 -->\n",
       "<g class=\"edge\" id=\"edge7\">\n",
       "<title>3-&gt;7</title>\n",
       "<path d=\"M366.798,-341.8796C367.349,-333.6838 367.9335,-324.9891 368.5041,-316.5013\" fill=\"none\" stroke=\"#000000\"/>\n",
       "<polygon fill=\"#000000\" points=\"372.0113,-316.5103 369.19,-306.2981 365.0271,-316.0408 372.0113,-316.5103\" stroke=\"#000000\"/>\n",
       "</g>\n",
       "<!-- 5 -->\n",
       "<g class=\"node\" id=\"node6\">\n",
       "<title>5</title>\n",
       "<path d=\"M112,-179.5C112,-179.5 12,-179.5 12,-179.5 6,-179.5 0,-173.5 0,-167.5 0,-167.5 0,-123.5 0,-123.5 0,-117.5 6,-111.5 12,-111.5 12,-111.5 112,-111.5 112,-111.5 118,-111.5 124,-117.5 124,-123.5 124,-123.5 124,-167.5 124,-167.5 124,-173.5 118,-179.5 112,-179.5\" fill=\"#39e581\" stroke=\"#000000\"/>\n",
       "<text fill=\"#000000\" font-family=\"Helvetica,sans-Serif\" font-size=\"14.00\" text-anchor=\"middle\" x=\"62\" y=\"-164.3\">gini = 0.0</text>\n",
       "<text fill=\"#000000\" font-family=\"Helvetica,sans-Serif\" font-size=\"14.00\" text-anchor=\"middle\" x=\"62\" y=\"-149.3\">samples = 47</text>\n",
       "<text fill=\"#000000\" font-family=\"Helvetica,sans-Serif\" font-size=\"14.00\" text-anchor=\"middle\" x=\"62\" y=\"-134.3\">value = [0, 47, 0]</text>\n",
       "<text fill=\"#000000\" font-family=\"Helvetica,sans-Serif\" font-size=\"14.00\" text-anchor=\"middle\" x=\"62\" y=\"-119.3\">class = versicolor</text>\n",
       "</g>\n",
       "<!-- 4&#45;&gt;5 -->\n",
       "<g class=\"edge\" id=\"edge5\">\n",
       "<title>4-&gt;5</title>\n",
       "<path d=\"M143.2811,-222.8796C131.0375,-211.2237 117.7339,-198.5587 105.5029,-186.9148\" fill=\"none\" stroke=\"#000000\"/>\n",
       "<polygon fill=\"#000000\" points=\"107.7012,-184.1751 98.0451,-179.8149 102.8746,-189.245 107.7012,-184.1751\" stroke=\"#000000\"/>\n",
       "</g>\n",
       "<!-- 6 -->\n",
       "<g class=\"node\" id=\"node7\">\n",
       "<title>6</title>\n",
       "<path d=\"M246,-179.5C246,-179.5 154,-179.5 154,-179.5 148,-179.5 142,-173.5 142,-167.5 142,-167.5 142,-123.5 142,-123.5 142,-117.5 148,-111.5 154,-111.5 154,-111.5 246,-111.5 246,-111.5 252,-111.5 258,-117.5 258,-123.5 258,-123.5 258,-167.5 258,-167.5 258,-173.5 252,-179.5 246,-179.5\" fill=\"#8139e5\" stroke=\"#000000\"/>\n",
       "<text fill=\"#000000\" font-family=\"Helvetica,sans-Serif\" font-size=\"14.00\" text-anchor=\"middle\" x=\"200\" y=\"-164.3\">gini = 0.0</text>\n",
       "<text fill=\"#000000\" font-family=\"Helvetica,sans-Serif\" font-size=\"14.00\" text-anchor=\"middle\" x=\"200\" y=\"-149.3\">samples = 1</text>\n",
       "<text fill=\"#000000\" font-family=\"Helvetica,sans-Serif\" font-size=\"14.00\" text-anchor=\"middle\" x=\"200\" y=\"-134.3\">value = [0, 0, 1]</text>\n",
       "<text fill=\"#000000\" font-family=\"Helvetica,sans-Serif\" font-size=\"14.00\" text-anchor=\"middle\" x=\"200\" y=\"-119.3\">class = virginica</text>\n",
       "</g>\n",
       "<!-- 4&#45;&gt;6 -->\n",
       "<g class=\"edge\" id=\"edge6\">\n",
       "<title>4-&gt;6</title>\n",
       "<path d=\"M191.5468,-222.8796C192.712,-212.2134 193.9695,-200.7021 195.1494,-189.9015\" fill=\"none\" stroke=\"#000000\"/>\n",
       "<polygon fill=\"#000000\" points=\"198.6445,-190.1359 196.2513,-179.8149 191.6859,-189.3757 198.6445,-190.1359\" stroke=\"#000000\"/>\n",
       "</g>\n",
       "<!-- 8 -->\n",
       "<g class=\"node\" id=\"node9\">\n",
       "<title>8</title>\n",
       "<path d=\"M405,-179.5C405,-179.5 313,-179.5 313,-179.5 307,-179.5 301,-173.5 301,-167.5 301,-167.5 301,-123.5 301,-123.5 301,-117.5 307,-111.5 313,-111.5 313,-111.5 405,-111.5 405,-111.5 411,-111.5 417,-117.5 417,-123.5 417,-123.5 417,-167.5 417,-167.5 417,-173.5 411,-179.5 405,-179.5\" fill=\"#8139e5\" stroke=\"#000000\"/>\n",
       "<text fill=\"#000000\" font-family=\"Helvetica,sans-Serif\" font-size=\"14.00\" text-anchor=\"middle\" x=\"359\" y=\"-164.3\">gini = 0.0</text>\n",
       "<text fill=\"#000000\" font-family=\"Helvetica,sans-Serif\" font-size=\"14.00\" text-anchor=\"middle\" x=\"359\" y=\"-149.3\">samples = 3</text>\n",
       "<text fill=\"#000000\" font-family=\"Helvetica,sans-Serif\" font-size=\"14.00\" text-anchor=\"middle\" x=\"359\" y=\"-134.3\">value = [0, 0, 3]</text>\n",
       "<text fill=\"#000000\" font-family=\"Helvetica,sans-Serif\" font-size=\"14.00\" text-anchor=\"middle\" x=\"359\" y=\"-119.3\">class = virginica</text>\n",
       "</g>\n",
       "<!-- 7&#45;&gt;8 -->\n",
       "<g class=\"edge\" id=\"edge8\">\n",
       "<title>7-&gt;8</title>\n",
       "<path d=\"M367.4532,-222.8796C366.288,-212.2134 365.0305,-200.7021 363.8506,-189.9015\" fill=\"none\" stroke=\"#000000\"/>\n",
       "<polygon fill=\"#000000\" points=\"367.3141,-189.3757 362.7487,-179.8149 360.3555,-190.1359 367.3141,-189.3757\" stroke=\"#000000\"/>\n",
       "</g>\n",
       "<!-- 9 -->\n",
       "<g class=\"node\" id=\"node10\">\n",
       "<title>9</title>\n",
       "<path d=\"M595,-187C595,-187 447,-187 447,-187 441,-187 435,-181 435,-175 435,-175 435,-116 435,-116 435,-110 441,-104 447,-104 447,-104 595,-104 595,-104 601,-104 607,-110 607,-116 607,-116 607,-175 607,-175 607,-181 601,-187 595,-187\" fill=\"#39e581\" fill-opacity=\"0.498039\" stroke=\"#000000\"/>\n",
       "<text fill=\"#000000\" font-family=\"Helvetica,sans-Serif\" font-size=\"14.00\" text-anchor=\"middle\" x=\"521\" y=\"-171.8\">petal length (cm) &lt;= 5.45</text>\n",
       "<text fill=\"#000000\" font-family=\"Helvetica,sans-Serif\" font-size=\"14.00\" text-anchor=\"middle\" x=\"521\" y=\"-156.8\">gini = 0.444</text>\n",
       "<text fill=\"#000000\" font-family=\"Helvetica,sans-Serif\" font-size=\"14.00\" text-anchor=\"middle\" x=\"521\" y=\"-141.8\">samples = 3</text>\n",
       "<text fill=\"#000000\" font-family=\"Helvetica,sans-Serif\" font-size=\"14.00\" text-anchor=\"middle\" x=\"521\" y=\"-126.8\">value = [0, 2, 1]</text>\n",
       "<text fill=\"#000000\" font-family=\"Helvetica,sans-Serif\" font-size=\"14.00\" text-anchor=\"middle\" x=\"521\" y=\"-111.8\">class = versicolor</text>\n",
       "</g>\n",
       "<!-- 7&#45;&gt;9 -->\n",
       "<g class=\"edge\" id=\"edge9\">\n",
       "<title>7-&gt;9</title>\n",
       "<path d=\"M424.113,-222.8796C436.0225,-213.368 448.7734,-203.1843 460.9844,-193.432\" fill=\"none\" stroke=\"#000000\"/>\n",
       "<polygon fill=\"#000000\" points=\"463.2868,-196.0724 468.9165,-187.0969 458.9184,-190.6027 463.2868,-196.0724\" stroke=\"#000000\"/>\n",
       "</g>\n",
       "<!-- 10 -->\n",
       "<g class=\"node\" id=\"node11\">\n",
       "<title>10</title>\n",
       "<path d=\"M502,-68C502,-68 402,-68 402,-68 396,-68 390,-62 390,-56 390,-56 390,-12 390,-12 390,-6 396,0 402,0 402,0 502,0 502,0 508,0 514,-6 514,-12 514,-12 514,-56 514,-56 514,-62 508,-68 502,-68\" fill=\"#39e581\" stroke=\"#000000\"/>\n",
       "<text fill=\"#000000\" font-family=\"Helvetica,sans-Serif\" font-size=\"14.00\" text-anchor=\"middle\" x=\"452\" y=\"-52.8\">gini = 0.0</text>\n",
       "<text fill=\"#000000\" font-family=\"Helvetica,sans-Serif\" font-size=\"14.00\" text-anchor=\"middle\" x=\"452\" y=\"-37.8\">samples = 2</text>\n",
       "<text fill=\"#000000\" font-family=\"Helvetica,sans-Serif\" font-size=\"14.00\" text-anchor=\"middle\" x=\"452\" y=\"-22.8\">value = [0, 2, 0]</text>\n",
       "<text fill=\"#000000\" font-family=\"Helvetica,sans-Serif\" font-size=\"14.00\" text-anchor=\"middle\" x=\"452\" y=\"-7.8\">class = versicolor</text>\n",
       "</g>\n",
       "<!-- 9&#45;&gt;10 -->\n",
       "<g class=\"edge\" id=\"edge10\">\n",
       "<title>9-&gt;10</title>\n",
       "<path d=\"M495.3069,-103.9815C489.8469,-95.1585 484.0716,-85.8258 478.5793,-76.9506\" fill=\"none\" stroke=\"#000000\"/>\n",
       "<polygon fill=\"#000000\" points=\"481.442,-74.9254 473.2035,-68.2637 475.4896,-78.609 481.442,-74.9254\" stroke=\"#000000\"/>\n",
       "</g>\n",
       "<!-- 11 -->\n",
       "<g class=\"node\" id=\"node12\">\n",
       "<title>11</title>\n",
       "<path d=\"M636,-68C636,-68 544,-68 544,-68 538,-68 532,-62 532,-56 532,-56 532,-12 532,-12 532,-6 538,0 544,0 544,0 636,0 636,0 642,0 648,-6 648,-12 648,-12 648,-56 648,-56 648,-62 642,-68 636,-68\" fill=\"#8139e5\" stroke=\"#000000\"/>\n",
       "<text fill=\"#000000\" font-family=\"Helvetica,sans-Serif\" font-size=\"14.00\" text-anchor=\"middle\" x=\"590\" y=\"-52.8\">gini = 0.0</text>\n",
       "<text fill=\"#000000\" font-family=\"Helvetica,sans-Serif\" font-size=\"14.00\" text-anchor=\"middle\" x=\"590\" y=\"-37.8\">samples = 1</text>\n",
       "<text fill=\"#000000\" font-family=\"Helvetica,sans-Serif\" font-size=\"14.00\" text-anchor=\"middle\" x=\"590\" y=\"-22.8\">value = [0, 0, 1]</text>\n",
       "<text fill=\"#000000\" font-family=\"Helvetica,sans-Serif\" font-size=\"14.00\" text-anchor=\"middle\" x=\"590\" y=\"-7.8\">class = virginica</text>\n",
       "</g>\n",
       "<!-- 9&#45;&gt;11 -->\n",
       "<g class=\"edge\" id=\"edge11\">\n",
       "<title>9-&gt;11</title>\n",
       "<path d=\"M546.6931,-103.9815C552.1531,-95.1585 557.9284,-85.8258 563.4207,-76.9506\" fill=\"none\" stroke=\"#000000\"/>\n",
       "<polygon fill=\"#000000\" points=\"566.5104,-78.609 568.7965,-68.2637 560.558,-74.9254 566.5104,-78.609\" stroke=\"#000000\"/>\n",
       "</g>\n",
       "<!-- 13 -->\n",
       "<g class=\"node\" id=\"node14\">\n",
       "<title>13</title>\n",
       "<path d=\"M593,-298.5C593,-298.5 501,-298.5 501,-298.5 495,-298.5 489,-292.5 489,-286.5 489,-286.5 489,-242.5 489,-242.5 489,-236.5 495,-230.5 501,-230.5 501,-230.5 593,-230.5 593,-230.5 599,-230.5 605,-236.5 605,-242.5 605,-242.5 605,-286.5 605,-286.5 605,-292.5 599,-298.5 593,-298.5\" fill=\"#8139e5\" fill-opacity=\"0.498039\" stroke=\"#000000\"/>\n",
       "<text fill=\"#000000\" font-family=\"Helvetica,sans-Serif\" font-size=\"14.00\" text-anchor=\"middle\" x=\"547\" y=\"-283.3\">gini = 0.444</text>\n",
       "<text fill=\"#000000\" font-family=\"Helvetica,sans-Serif\" font-size=\"14.00\" text-anchor=\"middle\" x=\"547\" y=\"-268.3\">samples = 3</text>\n",
       "<text fill=\"#000000\" font-family=\"Helvetica,sans-Serif\" font-size=\"14.00\" text-anchor=\"middle\" x=\"547\" y=\"-253.3\">value = [0, 1, 2]</text>\n",
       "<text fill=\"#000000\" font-family=\"Helvetica,sans-Serif\" font-size=\"14.00\" text-anchor=\"middle\" x=\"547\" y=\"-238.3\">class = virginica</text>\n",
       "</g>\n",
       "<!-- 12&#45;&gt;13 -->\n",
       "<g class=\"edge\" id=\"edge13\">\n",
       "<title>12-&gt;13</title>\n",
       "<path d=\"M551.5517,-341.8796C550.9243,-331.2134 550.2472,-319.7021 549.6119,-308.9015\" fill=\"none\" stroke=\"#000000\"/>\n",
       "<polygon fill=\"#000000\" points=\"553.0998,-308.5921 549.0185,-298.8149 546.1119,-309.0032 553.0998,-308.5921\" stroke=\"#000000\"/>\n",
       "</g>\n",
       "<!-- 14 -->\n",
       "<g class=\"node\" id=\"node15\">\n",
       "<title>14</title>\n",
       "<path d=\"M731,-298.5C731,-298.5 635,-298.5 635,-298.5 629,-298.5 623,-292.5 623,-286.5 623,-286.5 623,-242.5 623,-242.5 623,-236.5 629,-230.5 635,-230.5 635,-230.5 731,-230.5 731,-230.5 737,-230.5 743,-236.5 743,-242.5 743,-242.5 743,-286.5 743,-286.5 743,-292.5 737,-298.5 731,-298.5\" fill=\"#8139e5\" stroke=\"#000000\"/>\n",
       "<text fill=\"#000000\" font-family=\"Helvetica,sans-Serif\" font-size=\"14.00\" text-anchor=\"middle\" x=\"683\" y=\"-283.3\">gini = 0.0</text>\n",
       "<text fill=\"#000000\" font-family=\"Helvetica,sans-Serif\" font-size=\"14.00\" text-anchor=\"middle\" x=\"683\" y=\"-268.3\">samples = 43</text>\n",
       "<text fill=\"#000000\" font-family=\"Helvetica,sans-Serif\" font-size=\"14.00\" text-anchor=\"middle\" x=\"683\" y=\"-253.3\">value = [0, 0, 43]</text>\n",
       "<text fill=\"#000000\" font-family=\"Helvetica,sans-Serif\" font-size=\"14.00\" text-anchor=\"middle\" x=\"683\" y=\"-238.3\">class = virginica</text>\n",
       "</g>\n",
       "<!-- 12&#45;&gt;14 -->\n",
       "<g class=\"edge\" id=\"edge14\">\n",
       "<title>12-&gt;14</title>\n",
       "<path d=\"M599.1179,-341.8796C611.7533,-330.2237 625.4826,-317.5587 638.105,-305.9148\" fill=\"none\" stroke=\"#000000\"/>\n",
       "<polygon fill=\"#000000\" points=\"640.8244,-308.168 645.8015,-298.8149 636.078,-303.0228 640.8244,-308.168\" stroke=\"#000000\"/>\n",
       "</g>\n",
       "</g>\n",
       "</svg>"
      ],
      "text/plain": [
       "<IPython.core.display.SVG object>"
      ]
     },
     "metadata": {},
     "output_type": "display_data"
    }
   ],
   "source": [
    "# Decision Tree\n",
    "graph = Source(\n",
    "    export_graphviz(\n",
    "        tree_clf, \n",
    "        out_file=None, \n",
    "        feature_names=iris.feature_names[2:], \n",
    "        class_names=iris.target_names, \n",
    "        filled = True,\n",
    "        rounded=True\n",
    "    )\n",
    ")\n",
    "display(SVG(graph.pipe(format='svg')))"
   ]
  },
  {
   "cell_type": "markdown",
   "metadata": {},
   "source": [
    "## Tree\n",
    "The prediction process happens in a top-down pattern. \n",
    "* Depth 0 - Root Node\n",
    "* Depth 1 - (L)Leaf Node (R)Child Node\n",
    "* Depth 2 - (L)Leaf Node (R)Leaf Node"
   ]
  },
  {
   "cell_type": "code",
   "execution_count": 86,
   "metadata": {},
   "outputs": [
    {
     "data": {
      "image/png": "[encoded data removed]",
      "text/plain": [
       "<Figure size 1080x720 with 1 Axes>"
      ]
     },
     "metadata": {
      "needs_background": "light"
     },
     "output_type": "display_data"
    }
   ],
   "source": [
    "# Decision Tree Decision Boundaries\n",
    "from matplotlib.colors import ListedColormap\n",
    "def plot_decision_boundary(clf, X, y, axes=[0, 7.5, 0, 3], iris=True, legend=False, plot_training=True):\n",
    "    x1s = np.linspace(axes[0], axes[1], 100)\n",
    "    x2s = np.linspace(axes[2], axes[3], 100)\n",
    "    x1, x2 = np.meshgrid(x1s, x2s)\n",
    "    X_new = np.c_[x1.ravel(), x2.ravel()]\n",
    "    y_pred = clf.predict(X_new).reshape(x1.shape)\n",
    "    custom_cmap = ListedColormap(['#fafab0','#9898ff','#a0faa0'])\n",
    "    plt.contourf(x1, x2, y_pred, alpha=0.3, cmap=custom_cmap)\n",
    "    if not iris:\n",
    "        custom_cmap2 = ListedColormap(['#7d7d58','#4c4c7f','#507d50'])\n",
    "        plt.contour(x1, x2, y_pred, cmap=custom_cmap2, alpha=0.8)\n",
    "    if plot_training:\n",
    "        plt.plot(X[:, 0][y==0], X[:, 1][y==0], \"yo\", label=\"Iris-Setosa\")\n",
    "        plt.plot(X[:, 0][y==1], X[:, 1][y==1], \"bs\", label=\"Iris-Versicolor\")\n",
    "        plt.plot(X[:, 0][y==2], X[:, 1][y==2], \"g^\", label=\"Iris-Virginica\")\n",
    "        plt.axis(axes)\n",
    "    if iris:\n",
    "        plt.xlabel(\"Petal length\", fontsize=14)\n",
    "        plt.ylabel(\"Petal width\", fontsize=14)\n",
    "    else:\n",
    "        plt.xlabel(r\"$x_1$\", fontsize=18)\n",
    "        plt.ylabel(r\"$x_2$\", fontsize=18, rotation=0)\n",
    "    if legend:\n",
    "        plt.legend(loc=\"lower right\", fontsize=14)\n",
    "\n",
    "plt.figure(figsize=(15, 10))\n",
    "plot_decision_boundary(tree_clf, X, y)\n",
    "plt.plot([2.45, 2.45], [0, 3], \"k-\", linewidth=2)\n",
    "plt.plot([2.45, 7.5], [1.75, 1.75], \"k--\", linewidth=2)\n",
    "plt.plot([4.95, 4.95], [0, 1.75], \"k:\", linewidth=2)\n",
    "plt.plot([4.85, 4.85], [1.75, 3], \"k:\", linewidth=2)\n",
    "plt.text(1.40, 1.0, \"Depth=0\", fontsize=15)\n",
    "plt.text(3.2, 1.80, \"Depth=1\", fontsize=13)\n",
    "plt.text(4.05, 0.5, \"(Depth=2)\", fontsize=11)\n",
    "\n",
    "plt.show()"
   ]
  },
  {
   "cell_type": "code",
   "execution_count": 87,
   "metadata": {},
   "outputs": [
    {
     "data": {
      "text/plain": [
       "array([[0.        , 0.90740741, 0.09259259]])"
      ]
     },
     "execution_count": 87,
     "metadata": {},
     "output_type": "execute_result"
    }
   ],
   "source": [
    "# output Prediction Probability\n",
    "# [petal length, petal width]\n",
    "tree_clf.predict_proba([[5, 1.5]])"
   ]
  },
  {
   "cell_type": "code",
   "execution_count": 88,
   "metadata": {},
   "outputs": [
    {
     "data": {
      "text/plain": [
       "array([1])"
      ]
     },
     "execution_count": 88,
     "metadata": {},
     "output_type": "execute_result"
    }
   ],
   "source": [
    "# output Prediction Category\n",
    "# [petal length, petal width]\n",
    "tree_clf.predict([[5, 1.5]])"
   ]
  },
  {
   "attachments": {},
   "cell_type": "markdown",
   "metadata": {},
   "source": [
    "<br id=\"DT2\">\n",
    "\n",
    "# The Common Algorithms and Hyperparameters\n",
    "\n",
    "* CART - Classification and Regression Tree\n",
    "\n",
    "| Algorithm | Classification | Regression |\n",
    "| --- | --- | --- |\n",
    "| CART | Yes | Yes |\n",
    "| ID3 | Yes | No |\n",
    "| C4.5 | Yes | Yes |\n",
    "| C5.0 | Yes | Yes |"
   ]
  },
  {
   "cell_type": "markdown",
   "metadata": {},
   "source": [
    "### CART\n",
    "> <em>The algorithm first aplits the training set in 2 subset using a single feature $k$ and a threshold $t_k$. It searches the pair ($k$, $t_k$) that prodeuces the purest subsets by using Gini impurity $G$. Please beware that CART only produces binary trees. Nonleaf nodes always have two children. Above example uses CART classification model.</em> \n",
    "\n",
    "#### Gini Impurity\n",
    "$G_i = 1 - \\displaystyle\\sum_{k=1}^{n} p_{i,k}^2$\n",
    "* $P_{i,k}$ is the ratio of class k instances among the training instances in the $i^{th}$ node.\n",
    "The gini measures the node's impurity: a node is pure if all training instances it applies to belong to the same class.\n",
    "\n",
    "In the above example, the depth-2 left node has a gini score as $1 - (\\frac{0}{54})^2 - (\\frac{49}{54})^2 - (\\frac{5}{54})^2 \\approx 0.168$\n",
    "\n",
    "#### Cost Function for Classification\n",
    "$J(k, t_k) = \\frac{m_{left}}{m}G_{left} + \\frac{m_{right}}{m}G_{right}$\n",
    "* Where \n",
    "  \\begin{cases}\n",
    "    G_{left/right}       & \\quad \\text{is Gini impurity for left/right subset}\\\\\n",
    "    m_{left/right}       & \\quad \\text{is the number of instances in the left/right subset}\n",
    "  \\end{cases}\n"
   ]
  },
  {
   "cell_type": "markdown",
   "metadata": {},
   "source": [
    "### ID3\n",
    "> <em>The ID3 algorithm begins with the original set $S$ as the root node. On each iteration of the algorithm, it iterates through every unused attribute of the set $S$ and calculates the entropy $H(S)$ or information gain $IG(S)$ of that attribute. The reduction of entropy is called information gain.</em>\n",
    "\n",
    "#### Entropy\n",
    "$H_i = - \\displaystyle\\sum_{k=1}^{n} p_{i,k}log(p_{i,k})$\n",
    "* $p_{i,k}$ cannot be 0\n",
    "The entropy is frequently used as an impurity measure: a set's entropy is zero when it contains instances of only one class.\n",
    "\n",
    "In the above example, even though we didn't run it under ID3 but we can adjust hyperparameter to entropy when using CART. The depth-2 left node has a gini score as $- \\frac{49}{54}log(\\frac{49}{54}) - \\frac{5}{54}log(\\frac{5}{54}) \\approx 0.31$\n",
    "\n",
    "\n",
    "#### Cost Function - Information Gain\n",
    "${\\displaystyle IG(S,A)=\\mathrm {H} {(S)}-\\sum _{t\\in T}p(t)\\mathrm {H} {(t)}=\\mathrm {H} {(S)}-\\mathrm {H} {(S|A)}.}$\n",
    "* $H(S)$ – Entropy of set $S$\n",
    "* $T$ – The subsets created from splitting set $S$ by attribute $A$ such that $\\displaystyle S=\\bigcup _{t\\in T}t$\n",
    "* $p(t)$ – The proportion of the number of elements in $t$ to the number of elements in set $S$\n",
    "* $H(t)$ – Entropy of subset $t$"
   ]
  },
  {
   "cell_type": "markdown",
   "metadata": {},
   "source": [
    "| Comparison | Gini | Entropy |\n",
    "| --- | --- | --- |\n",
    "| Speed | `Faster` | `Slower` |\n",
    "| Split | `isolating most frequent class in its own branch` | `slightly more balanced` |"
   ]
  },
  {
   "cell_type": "markdown",
   "metadata": {},
   "source": [
    "### Regularization Hyperpaprameter\n",
    "1. Reduce Max Depth (CART is greedy) - Reduce risk of overfitting\n",
    "2. min_samples_split - the minimum number of samples a node must have before it can be split\n",
    "3. min_samples_leaf - the minimum number of a leaf node must have\n",
    "4. max_features - maximum number of features that are evaluated for splitting at each node\n",
    "\n",
    "A general rule is that increasing min_* hyperparameter and reducing max_* hyperparameters will regularize the model "
   ]
  },
  {
   "cell_type": "code",
   "execution_count": 89,
   "metadata": {},
   "outputs": [],
   "source": [
    "from ipywidgets import interactive"
   ]
  },
  {
   "cell_type": "code",
   "execution_count": 95,
   "metadata": {},
   "outputs": [
    {
     "data": {
      "application/vnd.jupyter.widget-view+json": {
       "model_id": "8765eebc04c049819c0ad64c5e80fe68",
       "version_major": 2,
       "version_minor": 0
      },
      "text/plain": [
       "interactive(children=(Dropdown(description='crit', options=('gini', 'entropy'), value='gini'), Dropdown(descri…"
      ]
     },
     "metadata": {},
     "output_type": "display_data"
    }
   ],
   "source": [
    "# test hyperparameter\n",
    "def plot_tree(crit, split, depth, min_split, min_leaf=0.2):\n",
    "    estimator = DecisionTreeClassifier(\n",
    "            random_state = 0 \n",
    "          , criterion = crit\n",
    "          , splitter = split\n",
    "          , max_depth = depth\n",
    "          , min_samples_split = min_split\n",
    "          , min_samples_leaf = min_leaf)\n",
    "    estimator.fit(X, y)\n",
    "    graph = Source(tree.export_graphviz(\n",
    "            estimator\n",
    "          , out_file = None\n",
    "          , feature_names = labels\n",
    "          , class_names = iris.target_names\n",
    "          , filled = True))\n",
    "\n",
    "    display(SVG(graph.pipe(format='svg')))\n",
    "    return estimator\n",
    "\n",
    "# use float to present percentage\n",
    "inter = interactive(plot_tree \n",
    "   , crit = [\"gini\", \"entropy\"]\n",
    "   , split = [\"best\", \"random\"]\n",
    "   , depth = [1,2,3,4]\n",
    "   , min_split = (0.1,1)\n",
    "   , min_leaf = (0.1,0.5))\n",
    "display(inter)"
   ]
  },
  {
   "cell_type": "markdown",
   "metadata": {},
   "source": [
    "<br id=\"DT3\">\n",
    "\n",
    "# The Time and Space Complexity\n",
    "\n",
    "This part can be complicated. Here is more of a very rough estimate of how long it might take to run through all features using Big O notation.\n",
    "$O(n*mlog(m))$\n",
    "\n",
    "For example, if a training set contains 1,000,000 instances takes an hour, how long will it take for 10 times more instances.\n",
    "\n",
    "Let's say $m = 10^6$, then we use $n*10m*log(10m)/n*m*log(m) = 10*log(10m)/log(m) \\approx 11.7$ hours."
   ]
  },
  {
   "cell_type": "markdown",
   "metadata": {},
   "source": [
    "<br id=\"DT4\">\n",
    "\n",
    "# The Algorithm Pros & Cons\n",
    "\n",
    "### Pros\n",
    "Data Prep - Requires very little feature scaling/centering\n",
    "\n",
    "### Cons\n",
    "Instability - Sensitive to small variations in training data -> Random Forest to limit the instability by averaginh predictions over many trees.\n",
    "\n",
    "More on https://scikit-learn.org/stable/modules/tree.html"
   ]
  }
 ],
 "metadata": {
  "kernelspec": {
   "display_name": "Python 3",
   "language": "python",
   "name": "python3"
  },
  "language_info": {
   "codemirror_mode": {
    "name": "ipython",
    "version": 3
   },
   "file_extension": ".py",
   "mimetype": "text/x-python",
   "name": "python",
   "nbconvert_exporter": "python",
   "pygments_lexer": "ipython3",
   "version": "3.7.1"
  }
 },
 "nbformat": 4,
 "nbformat_minor": 2
}
